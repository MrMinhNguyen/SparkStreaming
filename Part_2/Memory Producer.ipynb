{
 "cells": [
  {
   "cell_type": "markdown",
   "metadata": {},
   "source": [
    "# Kafka Producer for Memory Data"
   ]
  },
  {
   "cell_type": "markdown",
   "metadata": {},
   "source": [
    "## 1. Producing the data\n",
    "### 1.2. Memory Event Producer"
   ]
  },
  {
   "cell_type": "code",
   "execution_count": 2,
   "metadata": {},
   "outputs": [],
   "source": [
    "# Import libraries\n",
    "from time import sleep\n",
    "from json import dumps\n",
    "from kafka import KafkaProducer\n",
    "import random\n",
    "import time\n",
    "from pprint import pprint\n",
    "import pandas as pd"
   ]
  },
  {
   "cell_type": "markdown",
   "metadata": {},
   "source": [
    "#### Define a function to read CSV file"
   ]
  },
  {
   "cell_type": "markdown",
   "metadata": {},
   "source": [
    "* The CSV data file is read using `pandas`."
   ]
  },
  {
   "cell_type": "code",
   "execution_count": 3,
   "metadata": {},
   "outputs": [],
   "source": [
    "# Define the CSV reading function\n",
    "def read_csv(fileName):\n",
    "    # Read the file using Pandas \n",
    "    data = pd.read_csv(fileName)\n",
    "    return data"
   ]
  },
  {
   "cell_type": "markdown",
   "metadata": {},
   "source": [
    "#### Define Kafka functions"
   ]
  },
  {
   "cell_type": "code",
   "execution_count": 4,
   "metadata": {},
   "outputs": [],
   "source": [
    "# Define the function to publish messages\n",
    "def publish_message(producer_instance, topic_name, data):\n",
    "    # Send message containing data to the specified topic\n",
    "    try:\n",
    "        producer_instance.send(topic_name, data)\n",
    "        print('Message successfully sent. Sent ', len(data['data']), ' rows. At ', data['ts'])\n",
    "        \n",
    "    # If encounters error then print out the error message\n",
    "    except Exception as ex:\n",
    "        print('Exception in publishing message.')\n",
    "        print(str(ex))  "
   ]
  },
  {
   "cell_type": "markdown",
   "metadata": {},
   "source": [
    "* The producer is created at port 9092 and would send messages to the specified topic."
   ]
  },
  {
   "cell_type": "code",
   "execution_count": 5,
   "metadata": {},
   "outputs": [],
   "source": [
    "# Define the function to generate Kafka producer        \n",
    "def connect_kafka_producer():\n",
    "    _producer = None\n",
    "    \n",
    "    # Generate the connection at port 9092\n",
    "    try:\n",
    "        _producer = KafkaProducer(bootstrap_servers=['localhost:9092'],\n",
    "                                  value_serializer=lambda x: dumps(x).encode('ascii'),\n",
    "                                  api_version=(0, 10))\n",
    "        \n",
    "    # If encounters error then print out the error message\n",
    "    except Exception as ex:\n",
    "        print('Exception while connecting Kafka.')\n",
    "        print(str(ex))\n",
    "        \n",
    "    # Return the producer\n",
    "    finally:\n",
    "        return _producer"
   ]
  },
  {
   "cell_type": "markdown",
   "metadata": {},
   "source": [
    "#### Generate and Run the producer"
   ]
  },
  {
   "cell_type": "markdown",
   "metadata": {},
   "source": [
    "* The Memory Producer is generated at port 9092 and would produce messages to the `memory` topic. Data included in each message is extracted from the `Streaming_Linux_memory.csv` file. In each iteration, a random number of new records for each machine together with a small number of records coming from the previous iteration are extracted and included in the message together with the current timestamp. The timestamp comes in the form of Unix format.\n",
    "\n",
    "\n",
    "* The execution of this producer is carried out infinitely and could only be stopped with a keyboard interruption from user."
   ]
  },
  {
   "cell_type": "code",
   "execution_count": 7,
   "metadata": {},
   "outputs": [
    {
     "name": "stdout",
     "output_type": "stream",
     "text": [
      "Message successfully sent. Sent  299  rows. At  1635066270\n",
      "Message successfully sent. Sent  295  rows. At  1635066280\n"
     ]
    },
    {
     "ename": "KeyboardInterrupt",
     "evalue": "",
     "output_type": "error",
     "traceback": [
      "\u001b[0;31m---------------------------------------------------------------------------\u001b[0m",
      "\u001b[0;31mKeyboardInterrupt\u001b[0m                         Traceback (most recent call last)",
      "\u001b[0;32m<ipython-input-7-7d47a850e581>\u001b[0m in \u001b[0;36m<module>\u001b[0;34m\u001b[0m\n\u001b[1;32m     75\u001b[0m \u001b[0;34m\u001b[0m\u001b[0m\n\u001b[1;32m     76\u001b[0m         \u001b[0;31m# Rest for 10 seconds\u001b[0m\u001b[0;34m\u001b[0m\u001b[0;34m\u001b[0m\u001b[0;34m\u001b[0m\u001b[0m\n\u001b[0;32m---> 77\u001b[0;31m         \u001b[0msleep\u001b[0m\u001b[0;34m(\u001b[0m\u001b[0;36m10\u001b[0m\u001b[0;34m)\u001b[0m\u001b[0;34m\u001b[0m\u001b[0;34m\u001b[0m\u001b[0m\n\u001b[0m",
      "\u001b[0;31mKeyboardInterrupt\u001b[0m: "
     ]
    }
   ],
   "source": [
    "# Run the main program\n",
    "if __name__ == '__main__':\n",
    "\n",
    "    # Specify the topic\n",
    "    topic = 'memory'\n",
    "    \n",
    "     # Read data from the CSV file\n",
    "    all_machines = read_csv('data/Streaming_Linux_memory.csv')\n",
    "    \n",
    "    # Split the dataframe into sub-dataframes by machine number\n",
    "    machine_4 = all_machines[all_machines.machine==4].sort_values(by=['sequence'])\n",
    "    machine_5 = all_machines[all_machines.machine==5].sort_values(by=['sequence'])\n",
    "    machine_6 = all_machines[all_machines.machine==6].sort_values(by=['sequence'])\n",
    "    machine_7 = all_machines[all_machines.machine==7].sort_values(by=['sequence'])\n",
    "    machine_8 = all_machines[all_machines.machine==8].sort_values(by=['sequence'])\n",
    "    \n",
    "    # Combine sub-dataframes with their sequence tracking counter\n",
    "    data_tracking = [ [machine_4, 0], [machine_5, 0], [machine_6, 0], [machine_7, 0], [machine_8, 0] ]\n",
    "    \n",
    "    # Create the producer\n",
    "    producer = connect_kafka_producer()\n",
    "    \n",
    "    # Create the list of Y rows containing data from previous iteration\n",
    "    rows_Y = list()\n",
    "\n",
    "    # Start sending messages\n",
    "    while True:\n",
    "        # Move all data from the rows_Y list to the rows_X list\n",
    "        rows_X = rows_Y\n",
    "        # Empry the rows_Y list\n",
    "        rows_Y = list()\n",
    "        \n",
    "        # Get records for each machine\n",
    "        for idx in range(len(data_tracking)):\n",
    "            \n",
    "            # Take the dataset and its sequence tracking counter\n",
    "            dataset = data_tracking[idx][0]\n",
    "            counter = data_tracking[idx][1]\n",
    "            \n",
    "            # Get size of the dataset\n",
    "            dataset_size = len(dataset)\n",
    "            \n",
    "            # Create a random number X from 20 to 80\n",
    "            X = random.randint(20, 80)\n",
    "            # Create a random number Y from 0 to 5\n",
    "            Y = random.randint(0, 5)\n",
    "            \n",
    "            # If the data is exhausted then restart from the beginning\n",
    "            if(counter+X >= dataset_size):\n",
    "                # Take the remaining rows and the ones in the beginning\n",
    "                records_X = pd.concat([dataset.iloc[counter:dataset_size], dataset.iloc[0:counter+X-dataset_size]])\n",
    "                # Take Y rows from X\n",
    "                records_Y = records_X.sample(n=Y)\n",
    "                # Reset sequence tracking counter\n",
    "                data_tracking[idx][1] = counter+X-dataset_size\n",
    "            else:\n",
    "                # Take X rows\n",
    "                records_X = dataset.iloc[counter:(counter+X)]\n",
    "                # Take Y rows from X\n",
    "                records_Y = records_X.sample(n=Y)\n",
    "                # Update sequence tracking counter\n",
    "                data_tracking[idx][1] = counter + X\n",
    "                \n",
    "            # Add X rows to the sending list\n",
    "            rows_X = rows_X + records_X.to_dict('records')\n",
    "            # Keep Y rows in rows_Y\n",
    "            rows_Y = rows_Y + records_Y.to_dict('records')\n",
    "            \n",
    "        # Send data together with timestamp\n",
    "        data = {\n",
    "            'ts': int(time.time()), \n",
    "            'data': rows_X\n",
    "        }\n",
    "        publish_message(producer, topic, data)\n",
    "        \n",
    "        # Rest for 10 seconds\n",
    "        sleep(10)"
   ]
  }
 ],
 "metadata": {
  "kernelspec": {
   "display_name": "Python 3",
   "language": "python",
   "name": "python3"
  },
  "language_info": {
   "codemirror_mode": {
    "name": "ipython",
    "version": 3
   },
   "file_extension": ".py",
   "mimetype": "text/x-python",
   "name": "python",
   "nbconvert_exporter": "python",
   "pygments_lexer": "ipython3",
   "version": "3.6.9"
  }
 },
 "nbformat": 4,
 "nbformat_minor": 4
}
