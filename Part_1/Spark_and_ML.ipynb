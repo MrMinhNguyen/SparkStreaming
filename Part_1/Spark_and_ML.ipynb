{
 "cells": [
  {
   "cell_type": "markdown",
   "metadata": {},
   "source": [
    "# Spark and ML\n",
    "\n",
    "Data used in this project contains insights related to the performance of a computer, including metrics of its Memory and Processor. Data is stored in the form of CSV files and processed using PySpark. This data is used to train Machine Learning models that predict Cyber Attacks aim on the computer.\n",
    "\n",
    "After data has been loaded into the Spark application, the following processes would be carried out:\n",
    "1. Data Wrangling\n",
    "2. Data Visualization\n",
    "3. Feature Extraction\n",
    "4. Training Machine Learning models\n",
    "5. Models Evaluation"
   ]
  },
  {
   "cell_type": "markdown",
   "metadata": {},
   "source": [
    "## Table of Contents\n",
    "\n",
    "* [Importing libraries](#import)\n",
    "* [1. Data preparation and exploration](#one)\n",
    "    * [1.1. Creating Spark Session](#one_one)\n",
    "    * [1.2. Loading the data](#one_two)\n",
    "    * [1.3. Preparing the training data and testing data](#one_three)\n",
    "    * [1.4. Exploring the data](#one_four)\n",
    "* [2. Feature extraction and ML training](#two)\n",
    "    * [2.1. Preparing features, labels and models](#two_one)\n",
    "    * [2.2. Training and evaluating models](#two_two)\n",
    "    * [2.3. Persist the best models](#two_three)\n",
    "* [3. Knowledge sharing](#three)"
   ]
  },
  {
   "cell_type": "markdown",
   "metadata": {},
   "source": [
    "<a class=\"anchor\" name=\"import\"></a>\n",
    "## Importing Libraries"
   ]
  },
  {
   "cell_type": "code",
   "execution_count": 1,
   "metadata": {},
   "outputs": [],
   "source": [
    "# Importing necessary libraries that are needed for executing the code\n",
    "from pyspark import SparkConf, SparkContext \n",
    "from pyspark.sql import SparkSession \n",
    "from pyspark.sql import functions as F\n",
    "from pyspark.sql.types import *\n",
    "from pyspark.ml import Pipeline\n",
    "from pyspark.ml.feature import StringIndexer, VectorAssembler, StandardScaler, OneHotEncoder\n",
    "from pyspark.ml.classification import DecisionTreeClassifier, GBTClassifier\n",
    "from pyspark.ml.evaluation import BinaryClassificationEvaluator\n",
    "from pyspark.ml.clustering import KMeans\n",
    "from sklearn.feature_selection import SelectKBest, chi2, mutual_info_classif\n",
    "import numpy as np\n",
    "import pandas as pd\n",
    "import seaborn as sns\n",
    "import matplotlib.pyplot as plt\n",
    "import os\n",
    "import re\n",
    "from pprint import pprint"
   ]
  },
  {
   "cell_type": "markdown",
   "metadata": {},
   "source": [
    "<a class=\"anchor\" name=\"one\"></a>\n",
    "## 1. Data preparation and exploration"
   ]
  },
  {
   "cell_type": "markdown",
   "metadata": {},
   "source": [
    "<a class=\"anchor\" name=\"one_one\"></a>\n",
    "### 1.1. Creating Spark Session"
   ]
  },
  {
   "cell_type": "markdown",
   "metadata": {},
   "source": [
    "* Sizes of all data files are recorded in a list to get the the minimum value. By setting the the max partition byte configuration to be half of that value, the application would ensure that each file would be distributed into at least 2 partitions. "
   ]
  },
  {
   "cell_type": "code",
   "execution_count": 2,
   "metadata": {},
   "outputs": [
    {
     "name": "stderr",
     "output_type": "stream",
     "text": [
      "/home/minh_nguyen/.local/lib/python3.6/site-packages/pyspark/context.py:238: FutureWarning: Python 3.6 support is deprecated in Spark 3.2.\n",
      "  FutureWarning\n"
     ]
    }
   ],
   "source": [
    "import findspark\n",
    "findspark.init() \n",
    "\n",
    "# Run Spark in local mode with as many working processors as logical cores on the machine\n",
    "master = \"local[*]\"\n",
    "\n",
    "# Name of the App\n",
    "app_name = \"Spark-ML\"\n",
    "\n",
    "# Get sizes of the data files and record the minimim value\n",
    "all_file_size = [os.path.getsize('data/' + s) for s in os.listdir('data')]\n",
    "min_size = min(all_file_size)\n",
    "\n",
    "# Setup configuration parameters for Spark\n",
    "spark_conf = SparkConf().setMaster(master).setAppName(app_name)\n",
    "# Change the max partition byte to ensure that there are at least 2 partitions for each file\n",
    "spark_conf.set(\"spark.sql.files.maxPartitionBytes\", round(min_size/2))\n",
    "\n",
    "# Building SparkSession\n",
    "spark = SparkSession.builder.config(conf=spark_conf).getOrCreate()\n",
    "sc = spark.sparkContext\n",
    "sc.setLogLevel('ERROR')"
   ]
  },
  {
   "cell_type": "markdown",
   "metadata": {},
   "source": [
    "<a class=\"anchor\" name=\"one_two\"></a>\n",
    "### 1.2. Loading the data"
   ]
  },
  {
   "cell_type": "markdown",
   "metadata": {},
   "source": [
    "* Data is loaded into Spark Dataframe using a predefined schema and then cached."
   ]
  },
  {
   "cell_type": "code",
   "execution_count": 3,
   "metadata": {},
   "outputs": [],
   "source": [
    "# Schema for Memory dataframe\n",
    "memory_schema = StructType([\n",
    "    StructField(\"ts\", DoubleType(), True),\n",
    "    StructField(\"PID\", DoubleType(), True),\n",
    "    StructField(\"MINFLT\", StringType(), True),\n",
    "    StructField(\"MAJFLT\", StringType(), True),\n",
    "    StructField(\"VSTEXT\", StringType(), True),\n",
    "    StructField(\"VSIZE\", DoubleType(), True),\n",
    "    StructField(\"RSIZE\", StringType(), True),\n",
    "    StructField(\"VGROW\", StringType(), True),\n",
    "    StructField(\"RGROW\", StringType(), True),\n",
    "    StructField(\"MEM\", DoubleType(), True),\n",
    "    StructField(\"CMD\", StringType(), True),\n",
    "    StructField(\"attack\", DoubleType(), True),\n",
    "    StructField(\"type\", StringType(), True)\n",
    "])\n",
    "\n",
    "# Schema for Process dataframe\n",
    "process_schema = StructType([\n",
    "    StructField(\"ts\", DoubleType(), True),\n",
    "    StructField(\"PID\", DoubleType(), True),\n",
    "    StructField(\"TRUN\", DoubleType(), True),\n",
    "    StructField(\"TSLPI\", DoubleType(), True),\n",
    "    StructField(\"TSLPU\", DoubleType(), True),\n",
    "    StructField(\"POLI\", StringType(), True),\n",
    "    StructField(\"NICE\", DoubleType(), True),\n",
    "    StructField(\"PRI\", DoubleType(), True),\n",
    "    StructField(\"RTPR\", DoubleType(), True),\n",
    "    StructField(\"CPUNR\", DoubleType(), True),\n",
    "    StructField(\"Status\", StringType(), True),\n",
    "    StructField(\"EXC\", DoubleType(), True),\n",
    "    StructField(\"State\", StringType(), True),\n",
    "    StructField(\"CPU\", DoubleType(), True),\n",
    "    StructField(\"CMD\", StringType(), True),\n",
    "    StructField(\"attack\", DoubleType(), True),\n",
    "    StructField(\"type\", StringType(), True)\n",
    "])\n",
    "\n",
    "# Load Memory Dataframe\n",
    "memory_df = spark.read.format('csv')\\\n",
    "            .option('header', True).option('escape', '\"')\\\n",
    "            .schema(memory_schema)\\\n",
    "            .load('data/linux_memory_*.csv')\\\n",
    "            .cache()\n",
    "\n",
    "# Load Process Dataframe\n",
    "process_df = spark.read.format('csv')\\\n",
    "            .option('header', True).option('escape', '\"')\\\n",
    "            .schema(process_schema)\\\n",
    "            .load('data/linux_process_*.csv')\\\n",
    "            .cache()"
   ]
  },
  {
   "cell_type": "code",
   "execution_count": 4,
   "metadata": {},
   "outputs": [
    {
     "name": "stdout",
     "output_type": "stream",
     "text": [
      "Memory DF row count:  2000000\n",
      "Process DF row count:  1927968\n"
     ]
    }
   ],
   "source": [
    "# Print out row count for each dataframe\n",
    "print('Memory DF row count: ', memory_df.count())\n",
    "print('Process DF row count: ', process_df.count())"
   ]
  },
  {
   "cell_type": "markdown",
   "metadata": {},
   "source": [
    "* For each column, the null data is counted and printed out below:"
   ]
  },
  {
   "cell_type": "code",
   "execution_count": 5,
   "metadata": {},
   "outputs": [
    {
     "name": "stdout",
     "output_type": "stream",
     "text": [
      "Memory check null: \n",
      "+---+---+------+------+------+-----+-----+-----+-----+---+---+------+----+\n",
      "| ts|PID|MINFLT|MAJFLT|VSTEXT|VSIZE|RSIZE|VGROW|RGROW|MEM|CMD|attack|type|\n",
      "+---+---+------+------+------+-----+-----+-----+-----+---+---+------+----+\n",
      "|  0|  0|     0|     0|     0|    0|    0|    0|    0|  0|  0|     0|   0|\n",
      "+---+---+------+------+------+-----+-----+-----+-----+---+---+------+----+\n",
      "\n",
      "Process check null: \n",
      "+---+---+----+-----+-----+----+----+---+----+-----+------+---+-----+---+---+------+----+\n",
      "| ts|PID|TRUN|TSLPI|TSLPU|POLI|NICE|PRI|RTPR|CPUNR|Status|EXC|State|CPU|CMD|attack|type|\n",
      "+---+---+----+-----+-----+----+----+---+----+-----+------+---+-----+---+---+------+----+\n",
      "|  0|  0|   0|    0|    0|   0|   0|  0|   0|    0|     0|  0|    0|  0|  0|     0|   0|\n",
      "+---+---+----+-----+-----+----+----+---+----+-----+------+---+-----+---+---+------+----+\n",
      "\n"
     ]
    }
   ],
   "source": [
    "# Check null values in Memory Dataframe\n",
    "print('Memory check null: ')\n",
    "memory_df.select([\n",
    "    F.count(F.when(F.isnan(c) | F.col(c).isNull(), c)).alias(c) for c in memory_df.columns\n",
    "]).show()\n",
    "\n",
    "# Check null values in Process Dataframe\n",
    "print('Process check null: ')\n",
    "process_df.select([\n",
    "    F.count(F.when(F.isnan(c) | F.col(c).isNull(), c)).alias(c) for c in process_df.columns\n",
    "]).show()"
   ]
  },
  {
   "cell_type": "markdown",
   "metadata": {},
   "source": [
    "* The function `reformat` is defined in order to handle numerical values that are not formated properly."
   ]
  },
  {
   "cell_type": "code",
   "execution_count": 6,
   "metadata": {},
   "outputs": [],
   "source": [
    "# Function to reformat numerical values\n",
    "def reformat(value):\n",
    "    \n",
    "    # Remove space in the value\n",
    "    value = value.replace(' ', '')\n",
    "    \n",
    "    # Regular expression to capture the numbers\n",
    "    structure = r'([\\d\\.\\-\\+]+)(\\w?)'\n",
    "    \n",
    "    # Extract the number and its following tail\n",
    "    number = re.match(structure, value).group(1)\n",
    "    multiplication = re.match(structure, value).group(2)\n",
    "    \n",
    "    # Handle the tail\n",
    "    if multiplication == 'K':\n",
    "        result = float(number) * 1000\n",
    "    elif multiplication == 'M':\n",
    "        result = float(number) * 1000000\n",
    "    elif multiplication == 'G':\n",
    "        result = float(number) * 1000000000\n",
    "    else:\n",
    "        result = float(number)\n",
    "    \n",
    "    # Return the number\n",
    "    return result\n",
    "\n",
    "# Register the function as an User Defined Function for dataframes\n",
    "reformat_udf = F.udf(reformat, DoubleType())"
   ]
  },
  {
   "cell_type": "code",
   "execution_count": 7,
   "metadata": {},
   "outputs": [],
   "source": [
    "# Names of columns that need to be reformated\n",
    "reformat_columns = ['MINFLT', 'MAJFLT', 'VSTEXT', 'RSIZE', 'VGROW', 'RGROW']\n",
    "\n",
    "# Reformat the columns\n",
    "for c in reformat_columns:\n",
    "    memory_df = memory_df.withColumn(c, reformat_udf(c))"
   ]
  },
  {
   "cell_type": "markdown",
   "metadata": {},
   "source": [
    "<a class=\"anchor\" name=\"one_three\"></a>\n",
    "### 1.3. Preparing the training and testing data"
   ]
  },
  {
   "cell_type": "markdown",
   "metadata": {},
   "source": [
    "* Data is split into training (80%) and testing data (20%) for each use case. For each use case, 2 training datasets are generated: one with 100% of data and the other with 20%. In each of them, the ratio of attach and non-attack events are rebalanced to be 1:2."
   ]
  },
  {
   "cell_type": "markdown",
   "metadata": {},
   "source": [
    "#### 1.3.1. Memory data"
   ]
  },
  {
   "cell_type": "code",
   "execution_count": 8,
   "metadata": {},
   "outputs": [],
   "source": [
    "# Split the Memory Dataframe into training and testing sets\n",
    "memory_train, memory_test = memory_df.randomSplit([0.8, 0.2], seed=12345)"
   ]
  },
  {
   "cell_type": "code",
   "execution_count": 9,
   "metadata": {},
   "outputs": [],
   "source": [
    "# Filter the attack rows from the training dataset\n",
    "memory_train_atk = memory_train.filter(F.col('attack')==1).cache()\n",
    "number_atk = memory_train_atk.count()\n",
    "\n",
    "# Filter the non-attack rows from the training dataset\n",
    "memory_train_non_atk = memory_train.filter(F.col('attack')==0).cache()\n",
    "number_non_atk = memory_train_non_atk.count()\n",
    "\n",
    "# Sample the non-attack rows to be double the size of the attack (100%)\n",
    "memory_train_non_atk_100 = memory_train_non_atk.sample(False, 2*number_atk/number_non_atk)\n",
    "# Combine the non-attack with the attack rows (100%)\n",
    "memory_train_100 = memory_train_non_atk_100.unionAll(memory_train_atk).cache()\n",
    "\n",
    "# Sample 20% of the attack rows\n",
    "memory_train_atk_20 = memory_train_atk.sample(False, 1/5)\n",
    "number_atk_20 = memory_train_atk_20.count()\n",
    "# Sample the non-attack rows to be double the size of the attack (20%)\n",
    "memory_train_non_atk_20 = memory_train_non_atk.sample(False, 2*number_atk_20/number_non_atk)\n",
    "# Combine the non-attack with the attack rows (20%)\n",
    "memory_train_20 = memory_train_non_atk_20.unionAll(memory_train_atk_20).cache()"
   ]
  },
  {
   "cell_type": "markdown",
   "metadata": {},
   "source": [
    "#### 1.3.2. Process data"
   ]
  },
  {
   "cell_type": "code",
   "execution_count": 10,
   "metadata": {},
   "outputs": [],
   "source": [
    "# Split the Process Dataframe into training and testing sets\n",
    "process_train, process_test = process_df.randomSplit([0.8, 0.2], seed=12345)"
   ]
  },
  {
   "cell_type": "code",
   "execution_count": 11,
   "metadata": {},
   "outputs": [],
   "source": [
    "# Filter the attack rows from the training dataset\n",
    "process_train_atk = process_train.filter(F.col('attack')==1).cache()\n",
    "number_atk = process_train_atk.count()\n",
    "\n",
    "# Filter the non-attack rows from the training dataset\n",
    "process_train_non_atk = process_train.filter(F.col('attack')==0).cache()\n",
    "number_non_atk = process_train_non_atk.count()\n",
    "\n",
    "# Sample the non-attack rows to be double the size of the attack (100%)\n",
    "process_train_non_atk_100 = process_train_non_atk.sample(False, 2*number_atk/number_non_atk)\n",
    "# Combine the non-attack with the attack rows (100%)\n",
    "process_train_100 = process_train_non_atk_100.unionAll(process_train_atk).cache()\n",
    "\n",
    "# Sample 20% of the attack rows\n",
    "process_train_atk_20 = process_train_atk.sample(False, 1/5)\n",
    "number_atk_20 = process_train_atk_20.count()\n",
    "# Sample the non-attack rows to be double the size of the attack (20%)\n",
    "process_train_non_atk_20 = process_train_non_atk.sample(False, 2*number_atk_20/number_non_atk)\n",
    "# Combine the non-attack with the attack rows (20%)\n",
    "process_train_20 = process_train_non_atk_20.unionAll(process_train_atk_20).cache()"
   ]
  },
  {
   "cell_type": "markdown",
   "metadata": {},
   "source": [
    "<a class=\"anchor\" name=\"one_four\"></a>\n",
    "### 1.4. Exploring the data"
   ]
  },
  {
   "cell_type": "markdown",
   "metadata": {},
   "source": [
    "#### 1.4.1. Count of attack and type"
   ]
  },
  {
   "cell_type": "markdown",
   "metadata": {},
   "source": [
    "* The count of attack and non-attack in Memory and Process Dataframes (based on column `attack`)"
   ]
  },
  {
   "cell_type": "code",
   "execution_count": 12,
   "metadata": {},
   "outputs": [
    {
     "name": "stdout",
     "output_type": "stream",
     "text": [
      "Memory attack\n",
      "+------+-------+\n",
      "|attack|  Count|\n",
      "+------+-------+\n",
      "|   0.0|1794377|\n",
      "|   1.0| 205623|\n",
      "+------+-------+\n",
      "\n",
      "Process attack\n",
      "+------+-------+\n",
      "|attack|  Count|\n",
      "+------+-------+\n",
      "|   0.0|1636604|\n",
      "|   1.0| 291364|\n",
      "+------+-------+\n",
      "\n"
     ]
    }
   ],
   "source": [
    "print('Memory attack')\n",
    "# Group the rows by the attack column and count\n",
    "memory_df.groupby(F.col('attack'))\\\n",
    "    .agg(F.count('*').alias('Count'))\\\n",
    "    .orderBy(F.col('Count'), ascending=False)\\\n",
    "    .show()\n",
    "\n",
    "print('Process attack')\n",
    "# Group the rows by the attack column and count\n",
    "process_df.groupby(F.col('attack'))\\\n",
    "    .agg(F.count('*').alias('Count'))\\\n",
    "    .orderBy(F.col('Count'), ascending=False)\\\n",
    "    .show()"
   ]
  },
  {
   "cell_type": "markdown",
   "metadata": {},
   "source": [
    "* The count of each kind of attach in Process Dataframe (based on column `type`)."
   ]
  },
  {
   "cell_type": "code",
   "execution_count": 13,
   "metadata": {},
   "outputs": [
    {
     "name": "stdout",
     "output_type": "stream",
     "text": [
      "Process type\n",
      "+---------+-------+\n",
      "|     type|  Count|\n",
      "+---------+-------+\n",
      "|   normal|1636604|\n",
      "|     ddos|  71603|\n",
      "|      dos|  70721|\n",
      "| password|  51409|\n",
      "|injection|  41311|\n",
      "| scanning|  38449|\n",
      "|      xss|  17759|\n",
      "|     mitm|    112|\n",
      "+---------+-------+\n",
      "\n"
     ]
    }
   ],
   "source": [
    "print('Process type')\n",
    "# Group the rows by the type column and count\n",
    "process_df.groupby(F.col('type'))\\\n",
    "    .agg(F.count('*').alias('Count'))\\\n",
    "    .orderBy(F.col('Count'), ascending=False)\\\n",
    "    .show()"
   ]
  },
  {
   "cell_type": "markdown",
   "metadata": {},
   "source": [
    "* From the results above, it can be seen that the number of non-attack cases dominate the one of attack cases when in Memory Dataframe and Process Dataframe, the former is more than 8 and 5 times higher than the later one. Similary, in the Process Dataframe, the number of `normal` cases is also significantly higher than that of other types."
   ]
  },
  {
   "cell_type": "markdown",
   "metadata": {},
   "source": [
    "#### 1.4.2. Numeric and Non-numeric features Statistics"
   ]
  },
  {
   "cell_type": "code",
   "execution_count": 14,
   "metadata": {},
   "outputs": [],
   "source": [
    "# Numeric and Non-numeric columns of Memory Dataframe\n",
    "memory_numeric_features = ['ts', 'PID', 'MINFLT', 'MAJFLT', 'VSTEXT', 'VSIZE', 'RSIZE', 'VGROW', 'RGROW', 'MEM']\n",
    "memory_non_numeric_features = ['CMD']\n",
    "# Create Numeric and Non-numeric sub-dataframes\n",
    "memory_numeric_df = memory_df[memory_numeric_features]\n",
    "memory_non_numeric_df = memory_df[memory_non_numeric_features]\n",
    "\n",
    "\n",
    "# Numeric and Non-numeric columns of Process Dataframe\n",
    "process_numeric_features = ['ts', 'PID', 'TRUN', 'TSLPI', 'TSLPU', 'NICE', 'PRI', 'RTPR', 'CPUNR', 'EXC', 'CPU']\n",
    "process_non_numeric_features = ['POLI', 'Status', 'State', 'CMD'] \n",
    "# Create Numeric and Non-numeric sub-dataframes\n",
    "process_numeric_df = process_df[process_numeric_features]\n",
    "process_non_numeric_df = process_df[process_non_numeric_features]"
   ]
  },
  {
   "cell_type": "code",
   "execution_count": 15,
   "metadata": {},
   "outputs": [
    {
     "name": "stdout",
     "output_type": "stream",
     "text": [
      "Memory Numeric Features Statistics:\n",
      "+-------+------------------+-----------------+------------------+--------------------+-----------------+-----------------+------------------+-----------------+------------------+--------------------+\n",
      "|summary|                ts|              PID|            MINFLT|              MAJFLT|           VSTEXT|            VSIZE|             RSIZE|            VGROW|             RGROW|                 MEM|\n",
      "+-------+------------------+-----------------+------------------+--------------------+-----------------+-----------------+------------------+-----------------+------------------+--------------------+\n",
      "|  count|           2000000|          2000000|           2000000|             2000000|          2000000|          2000000|           2000000|          2000000|           2000000|             2000000|\n",
      "|   mean|1.55624581707609E9|      4999.360446|        983.344344|   987846.5873271533|46453.27415209289|4496.419966451573| 23722.88866420099|984.4668735599995|      483.17466255| 0.00338516500000249|\n",
      "| stddev| 984463.3682948058|4887.313351921455|19229.610980642236|1.4842874238098966E7|658730.2051543004|9046.338093398983|1986383.1808734972| 86174.8258520237|1491.4761059171706|0.010943425779985892|\n",
      "|    min|     1.554216855E9|           1007.0|               0.0|                 0.0|              0.0|              0.0|           -9728.0|       -9392000.0|               0.0|                 0.0|\n",
      "|    max|     1.558355716E9|          53096.0|         8050000.0|             2.244E8|           1.12E7|          88040.0|           2.244E8|          1.116E7|           98920.0|                0.44|\n",
      "+-------+------------------+-----------------+------------------+--------------------+-----------------+-----------------+------------------+-----------------+------------------+--------------------+\n",
      "\n",
      "Process Numeric Features Statistics:\n",
      "+-------+--------------------+-----------------+-------------------+-----------------+--------------------+-----------------+------------------+-------+------------------+--------------------+--------------------+\n",
      "|summary|                  ts|              PID|               TRUN|            TSLPI|               TSLPU|             NICE|               PRI|   RTPR|             CPUNR|                 EXC|                 CPU|\n",
      "+-------+--------------------+-----------------+-------------------+-----------------+--------------------+-----------------+------------------+-------+------------------+--------------------+--------------------+\n",
      "|  count|             1927968|          1927968|            1927968|          1927968|             1927968|          1927968|           1927968|1927968|           1927968|             1927968|             1927968|\n",
      "|   mean|1.5563198311840394E9|5068.709770597852| 0.0632287465352122|3.508334163222626|3.610018423542299...|4.634469555511295|111.26826741937626|    0.0|1.9210142491991569|0.030275398761805176|0.022385272992099244|\n",
      "| stddev|   771350.0243275166|4987.784329320439|0.24782587090416094|6.988459728531801|0.044218744192145804|8.403189864752047| 22.62444506210283|    0.0|1.5274047225902962|  1.4619498567691895| 0.13628943687184142|\n",
      "|    min|       1.554216855E9|           1007.0|                0.0|              0.0|                 0.0|              0.0|               0.0|    0.0|               0.0|                 0.0|                 0.0|\n",
      "|    max|       1.557593017E9|          53080.0|               12.0|             70.0|                21.0|             20.0|             139.0|    0.0|               5.0|               127.0|                4.02|\n",
      "+-------+--------------------+-----------------+-------------------+-----------------+--------------------+-----------------+------------------+-------+------------------+--------------------+--------------------+\n",
      "\n"
     ]
    }
   ],
   "source": [
    "# Show statistics of the numeric dataframes\n",
    "print('Memory Numeric Features Statistics:')\n",
    "memory_numeric_df.describe().show(5)\n",
    "\n",
    "print('Process Numeric Features Statistics:')\n",
    "process_numeric_df.describe().show(5)"
   ]
  },
  {
   "cell_type": "code",
   "execution_count": 16,
   "metadata": {},
   "outputs": [
    {
     "name": "stdout",
     "output_type": "stream",
     "text": [
      "Memory Non-numeric Feature Count:\n",
      "+----------+------+\n",
      "|       CMD| Count|\n",
      "+----------+------+\n",
      "|      atop|325985|\n",
      "|   apache2| 89761|\n",
      "| jfsCommit| 81714|\n",
      "|  vmtoolsd| 77871|\n",
      "|      Xorg| 49981|\n",
      "|  nautilus| 48356|\n",
      "|irqbalance| 44387|\n",
      "|    compiz| 44356|\n",
      "|  ostinato| 43024|\n",
      "|     drone| 41392|\n",
      "+----------+------+\n",
      "only showing top 10 rows\n",
      "\n",
      "Process Non-numeric Features Count:\n",
      "+----+-------+\n",
      "|POLI|  Count|\n",
      "+----+-------+\n",
      "|norm|1861558|\n",
      "|   0|  53216|\n",
      "|   -|  13194|\n",
      "+----+-------+\n",
      "\n",
      "+------+-------+\n",
      "|Status|  Count|\n",
      "+------+-------+\n",
      "|     -|1416322|\n",
      "|     0| 438984|\n",
      "|    NE|  48602|\n",
      "|     N|  23313|\n",
      "|    NS|    743|\n",
      "|     C|      3|\n",
      "|    NC|      1|\n",
      "+------+-------+\n",
      "\n",
      "+-----+-------+\n",
      "|State|  Count|\n",
      "+-----+-------+\n",
      "|    S|1676350|\n",
      "|    I|  98986|\n",
      "|    R|  84753|\n",
      "|    E|  66410|\n",
      "|    Z|   1118|\n",
      "|    D|    344|\n",
      "|    T|      7|\n",
      "+-----+-------+\n",
      "\n",
      "+--------------+------+\n",
      "|           CMD| Count|\n",
      "+--------------+------+\n",
      "|          atop|441180|\n",
      "|       apache2|313143|\n",
      "|      vmtoolsd|112029|\n",
      "|          Xorg| 66813|\n",
      "|      nautilus| 63449|\n",
      "|gnome-terminal| 47628|\n",
      "|        compiz| 44386|\n",
      "|    irqbalance| 44324|\n",
      "|      ostinato| 42979|\n",
      "|         drone| 41390|\n",
      "+--------------+------+\n",
      "only showing top 10 rows\n",
      "\n"
     ]
    }
   ],
   "source": [
    "# Show count of the non-numeric dataframes\n",
    "print('Memory Non-numeric Feature Count:')\n",
    "memory_non_numeric_df\\\n",
    "    .groupby(F.col('CMD'))\\\n",
    "    .agg(F.count('*').alias('Count'))\\\n",
    "    .orderBy(F.col('Count'), ascending=False)\\\n",
    "    .show(10)\n",
    "\n",
    "print('Process Non-numeric Features Count:')\n",
    "for c in process_non_numeric_features:\n",
    "    process_non_numeric_df\\\n",
    "        .groupby(F.col(c))\\\n",
    "        .agg(F.count('*').alias('Count'))\\\n",
    "        .orderBy(F.col('Count'), ascending=False)\\\n",
    "        .show(10)"
   ]
  },
  {
   "cell_type": "markdown",
   "metadata": {},
   "source": [
    "#### 1.4.3. Plotting"
   ]
  },
  {
   "cell_type": "markdown",
   "metadata": {},
   "source": [
    "##### Plots for Memory dataframe"
   ]
  },
  {
   "cell_type": "markdown",
   "metadata": {},
   "source": [
    "* The heatmap below illustrates the correlation between the numerical variables in the Memory Dataframe. With each square showing the correlation points between two variables, the higher the value contained in the square gets, the more likely that the two corresponding variables are correlated. Therefore, it can be seen that MINFLT, MAJFLT and VSTEXT are correlated; and similarly, we have the case between RSIZE and VGROW."
   ]
  },
  {
   "cell_type": "code",
   "execution_count": 17,
   "metadata": {},
   "outputs": [
    {
     "data": {
      "text/plain": [
       "<AxesSubplot:>"
      ]
     },
     "execution_count": 17,
     "metadata": {},
     "output_type": "execute_result"
    },
    {
     "data": {
      "image/png": "[encoded data removed]",
      "text/plain": [
       "<Figure size 936x936 with 2 Axes>"
      ]
     },
     "metadata": {
      "needs_background": "light"
     },
     "output_type": "display_data"
    }
   ],
   "source": [
    "# Prepare data for plotting\n",
    "plot_data = memory_train_20.select(\n",
    "    [c for c in memory_train_20.columns if c not in ['attack', 'type', 'CMD']]\n",
    ").toPandas()\n",
    "\n",
    "# Draw the heatmap\n",
    "f, ax = plt.subplots(figsize=(13, 13))\n",
    "sns.heatmap(plot_data.corr(), annot=True, linewidths=.5, fmt= '.1f', ax=ax)"
   ]
  },
  {
   "cell_type": "markdown",
   "metadata": {},
   "source": [
    "* The scatter plot below illustrates the relationship between the PID column and the attack label in the Memory Dataframe with a linear regression line fitting the given data. From the graph, it can be seen that all of the datapoints are distributed far away from the line, meaning that in this case, the linear regression line has a very high error. Consequently, the relationship between PID and attack is very vague."
   ]
  },
  {
   "cell_type": "code",
   "execution_count": 18,
   "metadata": {},
   "outputs": [
    {
     "data": {
      "text/plain": [
       "<AxesSubplot:xlabel='PID', ylabel='attack'>"
      ]
     },
     "execution_count": 18,
     "metadata": {},
     "output_type": "execute_result"
    },
    {
     "data": {
      "image/png": "[encoded data removed]",
      "text/plain": [
       "<Figure size 432x288 with 1 Axes>"
      ]
     },
     "metadata": {
      "needs_background": "light"
     },
     "output_type": "display_data"
    }
   ],
   "source": [
    "# Prepare data for plotting\n",
    "plot_data = memory_train_20.select(\n",
    "    [c for c in memory_train_20.columns if c in ['PID', 'attack']]\n",
    ").toPandas()\n",
    "\n",
    "# Draw the scatter plot\n",
    "sns.regplot(x='PID', y='attack', data=plot_data, fit_reg=True)"
   ]
  },
  {
   "cell_type": "markdown",
   "metadata": {},
   "source": [
    "##### Plots for Process dataframe"
   ]
  },
  {
   "cell_type": "markdown",
   "metadata": {},
   "source": [
    "* The heatmap below illustrates the correlation between the numerical variables in the Process Dataframe. With each square showing the correlation points between two variables, the higher the value contained in the square gets, the more likely that the two corresponding variables are correlated. Therefore, it can be seen that there are no correlationships between the numerical features. Furthermore, the map also points out that the RTPR feature contains bad values that make no analytical impact. "
   ]
  },
  {
   "cell_type": "code",
   "execution_count": 19,
   "metadata": {},
   "outputs": [
    {
     "data": {
      "text/plain": [
       "<AxesSubplot:>"
      ]
     },
     "execution_count": 19,
     "metadata": {},
     "output_type": "execute_result"
    },
    {
     "data": {
      "image/png": "[encoded data removed]",
      "text/plain": [
       "<Figure size 936x936 with 2 Axes>"
      ]
     },
     "metadata": {
      "needs_background": "light"
     },
     "output_type": "display_data"
    }
   ],
   "source": [
    "# Prepare data for plotting\n",
    "plot_data = process_train_20.select(\n",
    "    [c for c in process_train_20.columns if c not in ['attack', 'type', 'CMD', 'State', 'Status', 'POLI']]\n",
    ").toPandas()\n",
    "\n",
    "# Draw the heatmap\n",
    "f, ax = plt.subplots(figsize=(13, 13))\n",
    "sns.heatmap(plot_data.corr(), annot=True, linewidths=.5, fmt= '.1f', ax=ax)"
   ]
  },
  {
   "cell_type": "markdown",
   "metadata": {},
   "source": [
    "* The scatter plot below illustrates the relationship between the PID column and the attack label in the Process Dataframe with a linear regression line fitting the given data. From the graph, it can be seen that the majority of the datapoints are distributed far away from the line, meaning that in this case, the linear regression line has a very high error. Consequently, the relationship between PID and attack is very loose."
   ]
  },
  {
   "cell_type": "code",
   "execution_count": 20,
   "metadata": {},
   "outputs": [
    {
     "data": {
      "text/plain": [
       "<AxesSubplot:xlabel='PID', ylabel='attack'>"
      ]
     },
     "execution_count": 20,
     "metadata": {},
     "output_type": "execute_result"
    },
    {
     "data": {
      "image/png": "[encoded data removed]",
      "text/plain": [
       "<Figure size 432x288 with 1 Axes>"
      ]
     },
     "metadata": {
      "needs_background": "light"
     },
     "output_type": "display_data"
    }
   ],
   "source": [
    "# Prepare data for plotting\n",
    "plot_data = process_train_20.select(\n",
    "    [c for c in process_train_20.columns if c in ['PID', 'attack']]\n",
    ").toPandas()\n",
    "\n",
    "# Draw the scatter plot\n",
    "sns.regplot(x = 'PID', y='attack', data=plot_data, fit_reg=True)"
   ]
  },
  {
   "cell_type": "markdown",
   "metadata": {},
   "source": [
    "<a class=\"anchor\" name=\"two\"></a>\n",
    "## 2. Feature extraction and ML training"
   ]
  },
  {
   "cell_type": "markdown",
   "metadata": {},
   "source": [
    "<a class=\"anchor\" name=\"two_one\"></a>\n",
    "### 2.1. Preparing features, labels and models"
   ]
  },
  {
   "cell_type": "markdown",
   "metadata": {},
   "source": [
    "* Based on the graphs above, the features for the machine learning models are selected. In the case of Memory Dataframe, since MINFLT, MAJFLT, and VSTEXT are correlated with each other, only one of them (MINFLT) is selected for training and testing the models. Similarly, between RSIZE and VGROW, only the former one is selected. In the case of Process Dataframe, since RTPR contains bad values and cannot bring about any analytical impacts, it is excluded from the machine learning models. With PID containing the IDs of the processes and CMD containing their names, both of them play same the role of identifying the process; nonetheless, as illustrated in the two scatter plots above, the relationship between PID and attack is very loose; therefore, in both cases of Memory and Process, PID and CMD are not included in the list of features. \n",
    "\n",
    "\n",
    "* In the case of Memory Dataframe, the list of features contains: `ts`, `MINFLT`, `VSIZE`, `RGROW`, `MEM`. All of them are numerical features; therefore, they can be immediately be assembled to one `feature` column. On the other hand, for the Process Dataframe, the list of features contains both numerical and categorical data; therefore, String Indexing and One-hot Encoding are applied before assembling the features into one column. The three cloumns `POLI`, `Status`, `State` in the Process Dataframe are the ones that have to go through String Indexing and One-hot Encoding before being merged into the `feature` column together with `ts`, `TRUN`, `TSLPI`, `TSLPU`, `NICE`, `PRI`, `CPUNR`, `EXC`, and `CPU`.\n",
    "\n",
    "\n",
    "* After the features have been assembled into one single column, its value is then scaled using the Standard Scaler. The value of each row (`x`) is updated using the following formula: $x = \\frac{x - \\mu}{\\sigma}$. By doing this, different features would be standardized to a common scale without having their range of value being distorted."
   ]
  },
  {
   "cell_type": "markdown",
   "metadata": {},
   "source": [
    "#### 2.1.1. Memory pipelines"
   ]
  },
  {
   "cell_type": "markdown",
   "metadata": {},
   "source": [
    "* Prepare the training and testing data using the Rebalanced Memory Dataframe"
   ]
  },
  {
   "cell_type": "code",
   "execution_count": 21,
   "metadata": {},
   "outputs": [],
   "source": [
    "# Generate the train data (20%) with the list of features\n",
    "memory_train_data = memory_train_20[['ts', 'MINFLT', 'VSIZE', 'RSIZE', 'RGROW', 'MEM', 'attack']]\\\n",
    "        .withColumnRenamed('attack', 'label').cache()\n",
    "\n",
    "# Generate the train data (100%) with the list of features\n",
    "memory_train_full_data = memory_train_100[['ts', 'MINFLT', 'VSIZE', 'RSIZE', 'RGROW', 'MEM', 'attack']]\\\n",
    "        .withColumnRenamed('attack', 'label').cache()\n",
    "\n",
    "# Generate the test data\n",
    "memory_test_data = memory_test.withColumnRenamed('attack', 'label').cache()"
   ]
  },
  {
   "cell_type": "markdown",
   "metadata": {},
   "source": [
    "##### Decision Tree Pipeline (Memory Pipeline 1)"
   ]
  },
  {
   "cell_type": "code",
   "execution_count": 22,
   "metadata": {},
   "outputs": [],
   "source": [
    "# Assemble the features into one feature column\n",
    "assembler_input = ['ts', 'MINFLT', 'VSIZE', 'RSIZE', 'RGROW', 'MEM']\n",
    "stage_1 = VectorAssembler(inputCols=assembler_input, outputCol=\"features\")\n",
    "\n",
    "# Scale the feature column\n",
    "stage_2 = StandardScaler(inputCol='features', outputCol='features_scaled', withStd=True, withMean=True)\n",
    "\n",
    "# Specify the Machine Learning algorithm\n",
    "stage_3 = DecisionTreeClassifier(featuresCol='features_scaled', labelCol='label')\n",
    "\n",
    "# Create the pipeline\n",
    "stages = [stage_1, stage_2, stage_3]\n",
    "memory_pipeline_1 = Pipeline(stages=stages)"
   ]
  },
  {
   "cell_type": "markdown",
   "metadata": {},
   "source": [
    "##### Gradient Boosted Tree Pipeline (Memory Pipeline 2)"
   ]
  },
  {
   "cell_type": "code",
   "execution_count": 23,
   "metadata": {},
   "outputs": [],
   "source": [
    "# Assemble the features into one feature column\n",
    "assembler_input = ['ts', 'MINFLT', 'VSIZE', 'RSIZE', 'RGROW', 'MEM']\n",
    "stage_1 = VectorAssembler(inputCols=assembler_input, outputCol=\"features\")\n",
    "\n",
    "# Scale the feature column\n",
    "stage_2 = StandardScaler(inputCol='features', outputCol='features_scaled', withStd=True, withMean=True)\n",
    "\n",
    "# Specify the Machine Learning algorithm\n",
    "stage_3 = GBTClassifier(featuresCol='features_scaled', labelCol='label')\n",
    "\n",
    "# Create the pipeline\n",
    "stages = [stage_1, stage_2, stage_3]\n",
    "memory_pipeline_2 = Pipeline(stages=stages)"
   ]
  },
  {
   "cell_type": "markdown",
   "metadata": {},
   "source": [
    "#### 2.1.2. Process pipelines"
   ]
  },
  {
   "cell_type": "markdown",
   "metadata": {},
   "source": [
    "* Prepare the training and testing data using the Rebalanced Process Dataframe"
   ]
  },
  {
   "cell_type": "code",
   "execution_count": 24,
   "metadata": {},
   "outputs": [],
   "source": [
    "# Generate the train data (20%) with the list of features\n",
    "process_train_data = process_train_20[['ts', 'TRUN', 'TSLPI', 'TSLPU', 'POLI', 'NICE', 'PRI', \n",
    "                                       'CPUNR', 'Status', 'EXC', 'State', 'CPU', 'attack']]\\\n",
    "        .withColumnRenamed('attack', 'label').cache()\n",
    "\n",
    "# Generate the train data (100%) with the list of features\n",
    "process_train_full_data = process_train_100[['ts', 'TRUN', 'TSLPI', 'TSLPU', 'POLI', 'NICE', 'PRI', \n",
    "                                       'CPUNR', 'Status', 'EXC', 'State', 'CPU', 'attack']]\\\n",
    "        .withColumnRenamed('attack', 'label').cache()\n",
    "\n",
    "# Generate the test data\n",
    "process_test_data = process_test.withColumnRenamed('attack', 'label').cache()"
   ]
  },
  {
   "cell_type": "markdown",
   "metadata": {},
   "source": [
    "##### Decision Tree Pipeline (Process Pipeline 1)"
   ]
  },
  {
   "cell_type": "code",
   "execution_count": 25,
   "metadata": {},
   "outputs": [],
   "source": [
    "# String indexing the categorical features\n",
    "index_input = ['POLI', 'Status', 'State']\n",
    "index_output = ['POLI_idx', 'Status_idx', 'State_idx']\n",
    "stage_1 = StringIndexer(inputCols=index_input, outputCols=index_output).setHandleInvalid(\"keep\")\n",
    "\n",
    "# One-hot encoding the categorical features\n",
    "OHE_input = index_output\n",
    "OHE_output = ['POLI_ohe', 'Status_ohe', 'State_ohe']\n",
    "stage_2 = OneHotEncoder(inputCols=OHE_input, outputCols=OHE_output)\n",
    "\n",
    "# Assemble the features (both numerical and categorical) into one feature column\n",
    "assembler_input = ['ts', 'TRUN', 'TSLPI', 'TSLPU', 'NICE', 'PRI', 'CPUNR', 'EXC', 'CPU'] + OHE_output\n",
    "stage_3 = VectorAssembler(inputCols=assembler_input, outputCol=\"features\")\n",
    "\n",
    "# Scale the feature column\n",
    "stage_4 = StandardScaler(inputCol='features', outputCol='features_scaled', withStd=True, withMean=True)\n",
    "\n",
    "# Specify the Machine Learning algorithm\n",
    "stage_5 = DecisionTreeClassifier(featuresCol='features_scaled', labelCol='label')\n",
    "\n",
    "# Create the pipeline\n",
    "stages = [stage_1, stage_2, stage_3, stage_4, stage_5]\n",
    "process_pipeline_1 = Pipeline(stages=stages)"
   ]
  },
  {
   "cell_type": "markdown",
   "metadata": {},
   "source": [
    "##### Gradient Boosted Tree Pipeline (Process Pipeline 2)"
   ]
  },
  {
   "cell_type": "code",
   "execution_count": 26,
   "metadata": {},
   "outputs": [],
   "source": [
    "# String indexing the categorical features\n",
    "index_input = ['POLI', 'Status', 'State']\n",
    "index_output = ['POLI_idx', 'Status_idx', 'State_idx']\n",
    "stage_1 = StringIndexer(inputCols=index_input, outputCols=index_output).setHandleInvalid(\"keep\")\n",
    "\n",
    "# One-hot encoding the categorical features\n",
    "OHE_input = index_output\n",
    "OHE_output = ['POLI_ohe', 'Status_ohe', 'State_ohe']\n",
    "stage_2 = OneHotEncoder(inputCols=OHE_input, outputCols=OHE_output)\n",
    "\n",
    "# Assemble the features (both numerical and categorical) into one feature column\n",
    "assembler_input = ['ts', 'TRUN', 'TSLPI', 'TSLPU', 'NICE', 'PRI', 'CPUNR', 'EXC', 'CPU'] + OHE_output\n",
    "stage_3 = VectorAssembler(inputCols=assembler_input, outputCol=\"features\")\n",
    "\n",
    "# Scale the feature column\n",
    "stage_4 = StandardScaler(inputCol='features', outputCol='features_scaled', withStd=True, withMean=True)\n",
    "\n",
    "# Specify the Machine Learning algorithm\n",
    "stage_5 = GBTClassifier(featuresCol='features_scaled', labelCol='label')\n",
    "\n",
    "# Create the pipeline\n",
    "stages = [stage_1, stage_2, stage_3, stage_4, stage_5]\n",
    "process_pipeline_2 = Pipeline(stages=stages)"
   ]
  },
  {
   "cell_type": "markdown",
   "metadata": {},
   "source": [
    "<a class=\"anchor\" name=\"two_two\"></a>\n",
    "### 2.2. Training and evaluating models"
   ]
  },
  {
   "cell_type": "markdown",
   "metadata": {},
   "source": [
    "* In this scenario, since the purpose of the study is to detect and stop attacks, the ultimate goal would be to find as many potential attacks as possible so as to come up with prevention. If an actual attack is not detected and prevented, horrendous consequences might arise and lead to a tremendous lost of time and money. Therefore, it is crucial that the probability of actual attacks not being detected by the system is minimized. For that reason, the Recall metric is the one that plays a crucial role when it comes to the evaluating the models' performance. However, in this case when the ratio of attack and non-attack events is 1:2, meaning that there are more non-attack events than the other type, this imbalance might lead to the low record of Recall and AUC of the models. As a result, F1 would be the most proper metric for the evaluation of the models."
   ]
  },
  {
   "cell_type": "code",
   "execution_count": 27,
   "metadata": {},
   "outputs": [],
   "source": [
    "# Function to calculate Accuracy, Precision, Recal, and F1\n",
    "def compute_metrics(predictions):\n",
    "\n",
    "    # Calculate the elements of the confusion matrix\n",
    "    TN = predictions.filter('prediction = 0 AND label = 0').count()\n",
    "    TP = predictions.filter('prediction = 1 AND label = 1').count()\n",
    "    FN = predictions.filter('prediction = 0 AND label = 1').count()\n",
    "    FP = predictions.filter('prediction = 1 AND label = 0').count()\n",
    "    \n",
    "    # Show confusion matrix\n",
    "    predictions.groupBy('label', 'prediction').count().show()\n",
    "    \n",
    "    # Calculate metrics by the confusion matrix\n",
    "    accuracy = (TP+TN)/(TP+TN+FN+FP)\n",
    "    precision = TP/(TP+FP)\n",
    "    recall = TP/(TP+FN)\n",
    "    f1 = 2/((1/recall)+(1/precision))\n",
    "    \n",
    "    # Put the result in form of a dictionary\n",
    "    metrics = {\n",
    "        'accuracy': accuracy,\n",
    "        'precision': precision,\n",
    "        'recall': recall,\n",
    "        'f1': f1\n",
    "    }\n",
    "    \n",
    "    # Return result\n",
    "    return metrics    "
   ]
  },
  {
   "cell_type": "code",
   "execution_count": 28,
   "metadata": {},
   "outputs": [],
   "source": [
    "# Create evaluator for Binary Classification\n",
    "evaluator = BinaryClassificationEvaluator(rawPredictionCol=\"rawPrediction\")"
   ]
  },
  {
   "cell_type": "code",
   "execution_count": 29,
   "metadata": {},
   "outputs": [],
   "source": [
    "# User defined function to convert value to list\n",
    "to_array = F.udf(lambda v: v.toArray().tolist(), ArrayType(FloatType()))\n",
    "\n",
    "# Function to draw the ROC curve\n",
    "def draw_roc(prediction):\n",
    "    \n",
    "    # Create a list of thresholds\n",
    "    thresholds = np.linspace(0, 1, 100)\n",
    "    \n",
    "    # Split the probability column in halves\n",
    "    df = prediction.withColumn('probability', to_array('probability'))\n",
    "    # Create a temporary dataframe to store the two probability columns and label\n",
    "    prob_df = df.select(df.probability[0].alias('negative_prob'), \n",
    "                        df.probability[1].alias('positive_prob'), \n",
    "                        'label').cache()\n",
    "    \n",
    "    # Lists containing multiple cases of TPR and FPR\n",
    "    all_TPR = list()\n",
    "    all_FPR = list()\n",
    "    \n",
    "    # For each threshold\n",
    "    for th in thresholds:\n",
    "        # Create a temporary dataframe with new column prediction based on the probability positive column\n",
    "        test_df = prob_df.withColumn('prediction', F.when(prob_df.positive_prob > th, 1).otherwise(0)).cache()\n",
    "        \n",
    "        # Calculate the elements of the confusion matrix\n",
    "        TN = test_df.filter('prediction = 0 AND label = 0').count()\n",
    "        TP = test_df.filter('prediction = 1 AND label = 1').count()\n",
    "        FN = test_df.filter('prediction = 0 AND label = 1').count()\n",
    "        FP = test_df.filter('prediction = 1 AND label = 0').count()\n",
    "        \n",
    "        # Calculate the TPR and FPR then add them to the lists of results\n",
    "        TPR = TP/(TP+FN)\n",
    "        FPR = FP/(FP+TN)\n",
    "        all_TPR.append(TPR)\n",
    "        all_FPR.append(FPR)\n",
    "        \n",
    "    # Convert the list of TPR and FPR into a Pandas dataframe\n",
    "    data = { 'TPR': all_TPR, 'FPR': all_FPR }\n",
    "    data = pd.DataFrame(data)\n",
    " \n",
    "    # Plot the curve using the dataframe\n",
    "    plt.plot(data['FPR'],data['TPR'])\n",
    "    plt.ylabel('TPR')\n",
    "    plt.xlabel('FPR')\n",
    "    plt.title('ROC Curve')\n",
    "    plt.show()"
   ]
  },
  {
   "cell_type": "markdown",
   "metadata": {},
   "source": [
    "#### 2.2.1. Memory models"
   ]
  },
  {
   "cell_type": "markdown",
   "metadata": {},
   "source": [
    "##### Decision Tree Model (Memory Model 1)"
   ]
  },
  {
   "cell_type": "code",
   "execution_count": 30,
   "metadata": {},
   "outputs": [],
   "source": [
    "# Train the model on train data (20%)\n",
    "memory_model_1 = memory_pipeline_1.fit(memory_train_data)\n",
    "# Test model on test data\n",
    "memory_predictions_1 = memory_model_1.transform(memory_test_data)"
   ]
  },
  {
   "cell_type": "code",
   "execution_count": 31,
   "metadata": {},
   "outputs": [
    {
     "name": "stdout",
     "output_type": "stream",
     "text": [
      "+-----+----------+------+\n",
      "|label|prediction| count|\n",
      "+-----+----------+------+\n",
      "|  1.0|       1.0| 39814|\n",
      "|  0.0|       1.0| 25069|\n",
      "|  1.0|       0.0|  1264|\n",
      "|  0.0|       0.0|333452|\n",
      "+-----+----------+------+\n",
      "\n"
     ]
    }
   ],
   "source": [
    "# Compute the metrics\n",
    "memory_metrics_1 = compute_metrics(memory_predictions_1)\n",
    "memory_metrics_1['auc'] = evaluator.evaluate(memory_predictions_1)"
   ]
  },
  {
   "cell_type": "code",
   "execution_count": 32,
   "metadata": {},
   "outputs": [
    {
     "name": "stdout",
     "output_type": "stream",
     "text": [
      "{'accuracy': 0.934101436690282,\n",
      " 'auc': 0.9534260012062076,\n",
      " 'f1': 0.7514840365794964,\n",
      " 'precision': 0.613627606614984,\n",
      " 'recall': 0.9692292711427041}\n"
     ]
    }
   ],
   "source": [
    "# Print out the metrics\n",
    "pprint(memory_metrics_1)"
   ]
  },
  {
   "cell_type": "code",
   "execution_count": 34,
   "metadata": {},
   "outputs": [
    {
     "name": "stdout",
     "output_type": "stream",
     "text": [
      "[{'idx': 0, 'importance': 0.9862011401542189, 'name': 'ts'},\n",
      " {'idx': 1, 'importance': 0.011947001273730615, 'name': 'MINFLT'},\n",
      " {'idx': 5, 'importance': 0.0013797653665704754, 'name': 'MEM'},\n",
      " {'idx': 4, 'importance': 0.0004323924173122691, 'name': 'RGROW'},\n",
      " {'idx': 3, 'importance': 3.970078816769665e-05, 'name': 'RSIZE'}]\n"
     ]
    }
   ],
   "source": [
    "# Extract list of features from the predictions\n",
    "features = list()\n",
    "for k,v in memory_predictions_1.schema['features'].metadata['ml_attr']['attrs'].items():\n",
    "    features = features + v\n",
    "features = sorted(features, key=lambda k: k['idx']) \n",
    "\n",
    "# Extract list of features from the machine learning stage\n",
    "feature_importance = list(memory_model_1.stages[-1].featureImportances)\n",
    "\n",
    "# Map the importance with the features\n",
    "for i in range(len(features)):\n",
    "    features[i]['importance'] = feature_importance[i]\n",
    "\n",
    "# Print out the top 5 most important features\n",
    "pprint(sorted(features, key=lambda k: k['importance'], reverse=True)[:5])"
   ]
  },
  {
   "cell_type": "code",
   "execution_count": 35,
   "metadata": {},
   "outputs": [
    {
     "data": {
      "image/png": "[encoded data removed]",
      "text/plain": [
       "<Figure size 432x288 with 1 Axes>"
      ]
     },
     "metadata": {
      "needs_background": "light"
     },
     "output_type": "display_data"
    }
   ],
   "source": [
    "# Draw the ROC curve\n",
    "draw_roc(memory_predictions_1)"
   ]
  },
  {
   "cell_type": "markdown",
   "metadata": {},
   "source": [
    "##### Gradient Boosted Tree Model (Memory Model 2)"
   ]
  },
  {
   "cell_type": "code",
   "execution_count": 36,
   "metadata": {},
   "outputs": [],
   "source": [
    "# Train the model on train data (20%)\n",
    "memory_model_2 = memory_pipeline_2.fit(memory_train_data)\n",
    "# Test model on test data\n",
    "memory_predictions_2 = memory_model_2.transform(memory_test_data)"
   ]
  },
  {
   "cell_type": "code",
   "execution_count": 37,
   "metadata": {},
   "outputs": [
    {
     "name": "stdout",
     "output_type": "stream",
     "text": [
      "+-----+----------+------+\n",
      "|label|prediction| count|\n",
      "+-----+----------+------+\n",
      "|  1.0|       1.0| 38314|\n",
      "|  0.0|       1.0| 21086|\n",
      "|  1.0|       0.0|  2764|\n",
      "|  0.0|       0.0|337435|\n",
      "+-----+----------+------+\n",
      "\n"
     ]
    }
   ],
   "source": [
    "# Compute the metrics\n",
    "memory_metrics_2 = compute_metrics(memory_predictions_2)\n",
    "memory_metrics_2['auc'] = evaluator.evaluate(memory_predictions_2)"
   ]
  },
  {
   "cell_type": "code",
   "execution_count": 38,
   "metadata": {},
   "outputs": [
    {
     "name": "stdout",
     "output_type": "stream",
     "text": [
      "{'accuracy': 0.9403151659538688,\n",
      " 'auc': 0.9831129760342711,\n",
      " 'f1': 0.762634606580545,\n",
      " 'precision': 0.645016835016835,\n",
      " 'recall': 0.9327133745557232}\n"
     ]
    }
   ],
   "source": [
    "# Print out the metrics\n",
    "pprint(memory_metrics_2)"
   ]
  },
  {
   "cell_type": "code",
   "execution_count": 39,
   "metadata": {},
   "outputs": [
    {
     "name": "stdout",
     "output_type": "stream",
     "text": [
      "[{'idx': 0, 'importance': 0.8325031749940031, 'name': 'ts'},\n",
      " {'idx': 1, 'importance': 0.10856847673972875, 'name': 'MINFLT'},\n",
      " {'idx': 3, 'importance': 0.030827478947632627, 'name': 'RSIZE'},\n",
      " {'idx': 2, 'importance': 0.02461242390216867, 'name': 'VSIZE'},\n",
      " {'idx': 5, 'importance': 0.003206935357376593, 'name': 'MEM'}]\n"
     ]
    }
   ],
   "source": [
    "# Extract list of features from the predictions\n",
    "features = list()\n",
    "for k,v in memory_predictions_2.schema['features'].metadata['ml_attr']['attrs'].items():\n",
    "    features = features + v\n",
    "features = sorted(features, key=lambda k: k['idx']) \n",
    "\n",
    "# Extract feature importances from the machine learning stage\n",
    "feature_importance = list(memory_model_2.stages[-1].featureImportances)\n",
    "\n",
    "# Map the importance with the features\n",
    "for i in range(len(features)):\n",
    "    features[i]['importance'] = feature_importance[i]\n",
    "\n",
    "# Print out the top 5 most important features\n",
    "pprint(sorted(features, key=lambda k: k['importance'], reverse=True)[:5])"
   ]
  },
  {
   "cell_type": "code",
   "execution_count": 40,
   "metadata": {},
   "outputs": [
    {
     "data": {
      "image/png": "[encoded data removed]",
      "text/plain": [
       "<Figure size 432x288 with 1 Axes>"
      ]
     },
     "metadata": {
      "needs_background": "light"
     },
     "output_type": "display_data"
    }
   ],
   "source": [
    "# Draw the ROC curve\n",
    "draw_roc(memory_predictions_2)"
   ]
  },
  {
   "cell_type": "markdown",
   "metadata": {},
   "source": [
    "#### 2.2.2. Process models"
   ]
  },
  {
   "cell_type": "markdown",
   "metadata": {},
   "source": [
    "##### Decision Tree Model (Process Model 1)"
   ]
  },
  {
   "cell_type": "code",
   "execution_count": 41,
   "metadata": {},
   "outputs": [],
   "source": [
    "# Train the model on train data (20%)\n",
    "process_model_1 = process_pipeline_1.fit(process_train_data)\n",
    "# Test the model on test data\n",
    "process_predictions_1 = process_model_1.transform(process_test_data)"
   ]
  },
  {
   "cell_type": "code",
   "execution_count": 42,
   "metadata": {},
   "outputs": [
    {
     "name": "stdout",
     "output_type": "stream",
     "text": [
      "+-----+----------+------+\n",
      "|label|prediction| count|\n",
      "+-----+----------+------+\n",
      "|  1.0|       1.0| 57675|\n",
      "|  0.0|       1.0| 36876|\n",
      "|  1.0|       0.0|   657|\n",
      "|  0.0|       0.0|289913|\n",
      "+-----+----------+------+\n",
      "\n"
     ]
    }
   ],
   "source": [
    "# Compute the metrics\n",
    "process_metrics_1 = compute_metrics(process_predictions_1)\n",
    "process_metrics_1['auc'] = evaluator.evaluate(process_predictions_1)"
   ]
  },
  {
   "cell_type": "code",
   "execution_count": 43,
   "metadata": {},
   "outputs": [
    {
     "name": "stdout",
     "output_type": "stream",
     "text": [
      "{'accuracy': 0.9025423178689295,\n",
      " 'auc': 0.9358172422069296,\n",
      " 'f1': 0.7544985380977609,\n",
      " 'precision': 0.6099882603039629,\n",
      " 'recall': 0.9887368854145238}\n"
     ]
    }
   ],
   "source": [
    "# Print out the metrics\n",
    "pprint(process_metrics_1)"
   ]
  },
  {
   "cell_type": "code",
   "execution_count": 57,
   "metadata": {},
   "outputs": [
    {
     "name": "stdout",
     "output_type": "stream",
     "text": [
      "[{'importance': 0.99790603054574, 'name': 'ts'},\n",
      " {'importance': 0.002093969454260047, 'name': 'Status_ohe'},\n",
      " {'importance': 0.0, 'name': 'TRUN'},\n",
      " {'importance': 0.0, 'name': 'TSLPI'},\n",
      " {'importance': 0.0, 'name': 'TSLPU'}]\n"
     ]
    }
   ],
   "source": [
    "# Extract list of features from the predictions\n",
    "features = list()\n",
    "for k,v in process_predictions_1.schema['features'].metadata['ml_attr']['attrs'].items():\n",
    "    features = features + v\n",
    "features = sorted(features, key=lambda k: k['idx']) \n",
    "\n",
    "# Extract feature importances from the machine learning stage\n",
    "feature_importance = list(process_model_1.stages[-1].featureImportances)\n",
    "\n",
    "# Map the importance with the features\n",
    "for i in range(len(features)):\n",
    "    features[i]['importance'] = feature_importance[i]\n",
    "\n",
    "# Create a list of grouped features\n",
    "grouped_features = list()\n",
    "# For each feature\n",
    "for f in process_model_1.stages[-3].getInputCols():\n",
    "    # Sum the importance from the feature attributes\n",
    "    temp = 0\n",
    "    for i in features:\n",
    "        if f in i['name']:\n",
    "            temp = temp + i['importance']\n",
    "    \n",
    "    # Add feature to the new list\n",
    "    grouped_features.append({'name': f, 'importance':temp})\n",
    "    \n",
    "# Print out the top 5 most important features\n",
    "pprint(sorted(grouped_features, key=lambda k: k['importance'], reverse=True)[:5])"
   ]
  },
  {
   "cell_type": "code",
   "execution_count": 58,
   "metadata": {},
   "outputs": [
    {
     "data": {
      "image/png": "[encoded data removed]",
      "text/plain": [
       "<Figure size 432x288 with 1 Axes>"
      ]
     },
     "metadata": {
      "needs_background": "light"
     },
     "output_type": "display_data"
    }
   ],
   "source": [
    "# Draw the ROC curve\n",
    "draw_roc(process_predictions_1)"
   ]
  },
  {
   "cell_type": "markdown",
   "metadata": {},
   "source": [
    "##### Gradient Boosted Tree Model (Process Model 2)"
   ]
  },
  {
   "cell_type": "code",
   "execution_count": 59,
   "metadata": {},
   "outputs": [],
   "source": [
    "# Train the model on train data (20%)\n",
    "process_model_2 = process_pipeline_2.fit(process_train_data)\n",
    "# Test the model on test data\n",
    "process_predictions_2 = process_model_2.transform(process_test_data)"
   ]
  },
  {
   "cell_type": "code",
   "execution_count": 60,
   "metadata": {},
   "outputs": [
    {
     "name": "stdout",
     "output_type": "stream",
     "text": [
      "+-----+----------+------+\n",
      "|label|prediction| count|\n",
      "+-----+----------+------+\n",
      "|  1.0|       1.0| 55464|\n",
      "|  0.0|       1.0| 28180|\n",
      "|  1.0|       0.0|  2868|\n",
      "|  0.0|       0.0|298609|\n",
      "+-----+----------+------+\n",
      "\n"
     ]
    }
   ],
   "source": [
    "# Compute the metrics\n",
    "process_metrics_2 = compute_metrics(process_predictions_2)\n",
    "process_metrics_2['auc'] = evaluator.evaluate(process_predictions_2)"
   ]
  },
  {
   "cell_type": "code",
   "execution_count": 61,
   "metadata": {},
   "outputs": [
    {
     "name": "stdout",
     "output_type": "stream",
     "text": [
      "{'accuracy': 0.9193811814988017,\n",
      " 'auc': 0.9793050358742355,\n",
      " 'f1': 0.7813151518566517,\n",
      " 'precision': 0.6630959781932954,\n",
      " 'recall': 0.9508331619008434}\n"
     ]
    }
   ],
   "source": [
    "# Print out the metrics\n",
    "pprint(process_metrics_2)"
   ]
  },
  {
   "cell_type": "code",
   "execution_count": 68,
   "metadata": {},
   "outputs": [
    {
     "name": "stdout",
     "output_type": "stream",
     "text": [
      "[{'importance': 0.9228254412425805, 'name': 'ts'},\n",
      " {'importance': 0.031163531167051395, 'name': 'Status_ohe'},\n",
      " {'importance': 0.02514515826631648, 'name': 'CPU'},\n",
      " {'importance': 0.008884813813697615, 'name': 'CPUNR'},\n",
      " {'importance': 0.00850312261751445, 'name': 'TSLPI'}]\n"
     ]
    }
   ],
   "source": [
    "# Extract list of features from the predictions\n",
    "features = list()\n",
    "for k,v in process_predictions_2.schema['features'].metadata['ml_attr']['attrs'].items():\n",
    "    features = features + v\n",
    "features = sorted(features, key=lambda k: k['idx']) \n",
    "\n",
    "# Extract feature importances from the machine learning stage\n",
    "feature_importance = list(process_model_2.stages[-1].featureImportances)\n",
    "\n",
    "# Map the importance with the features\n",
    "for i in range(len(features)):\n",
    "    features[i]['importance'] = feature_importance[i]\n",
    "\n",
    "# Create a list of grouped features\n",
    "grouped_features = list()\n",
    "# For each feature\n",
    "for f in process_model_1.stages[-3].getInputCols():\n",
    "    # Sum the importance from the feature attributes\n",
    "    temp = 0\n",
    "    for i in features:\n",
    "        if f in i['name']:\n",
    "            temp = temp + i['importance']\n",
    "    \n",
    "    # Add feature to the new list\n",
    "    grouped_features.append({'name': f, 'importance':temp})\n",
    "    \n",
    "# Print out the top 5 most important features\n",
    "pprint(sorted(grouped_features, key=lambda k: k['importance'], reverse=True)[:5])"
   ]
  },
  {
   "cell_type": "code",
   "execution_count": 69,
   "metadata": {},
   "outputs": [
    {
     "data": {
      "image/png": "[encoded data removed]",
      "text/plain": [
       "<Figure size 432x288 with 1 Axes>"
      ]
     },
     "metadata": {
      "needs_background": "light"
     },
     "output_type": "display_data"
    }
   ],
   "source": [
    "# Draw the ROC curve\n",
    "draw_roc(process_predictions_2)"
   ]
  },
  {
   "cell_type": "markdown",
   "metadata": {},
   "source": [
    "<a class=\"anchor\" name=\"two_three\"></a>\n",
    "### 2.3. Persist the best models"
   ]
  },
  {
   "cell_type": "markdown",
   "metadata": {},
   "source": [
    "* Based on the evaluation of the models, it can be seen that in the case of Memory Dataframe, the Gradient Boosted Tree Pipeline (Memory Pipeline 2) is the better one; similarly, for the Process Dataframe, the Gradient Boosted Tree Pipeline (Process Pipeline 2) is one that outperformed its counterpart. In the case of the Memory Dataframe, the Decision Tree Model (Memory Model 1) has a higher Recall than the Gradient Boosted Tree Model (Memory Model 2) (0.969 compared to 0.932). However, the F1 score of Memory Model 2 is slightly higher than that of Memory Model 1 (0.762 compared to 0.751), indicating that for the Memory Dataframe, the Gradient Boosted Tree algorithm provides a better result. Similarly, in the case of the Process Dataframe, the Decision Treen Model (Process Model 1) also has a higher Recall than the Gradient Boosted Tree Model (Process Model 2); nonetheless, Process Model 2 has a higher F1 score (0.781) compared to that of the Process Model 1 (0.754). For that reason, Process Pipeline 2 should be chosen as the one to be re-trained using 100% of the data. The selection of Gradient Boosted Tree Model for both cases is can be explained through the fact that compared to `DecisionTreeClassifer`, which only generates one tree, `GBTClassifier` generates multiple trees with the later ones help improves their former counterparts' classification result [1]. Consequently, this algorithm is capable of providing outcomes with lower error.\n",
    "\n",
    "\n",
    "* Examining the top 5 most important features of each model, it can be seen that in all four cases, the `ts` feature always stay at the top with a dominating score. This feature's importance score was always higher than 0.8 and even reached more than 0.9 in three of the four examined cases. Based on the explanation provided by Apache Spark [2], the importance score is calculated based on the information gain when using the feature as a node to split the data. We can see that the domination of `ts`'s information gain score indicates that this feature is the one that has the strongest influence on the formation of the decision trees and that the splitting of the trees' nodes replies heavily on this feature. There is no doubt that `ts` has to be included in all of the models. "
   ]
  },
  {
   "cell_type": "markdown",
   "metadata": {},
   "source": [
    "#### 2.3.2. Gradient Boosted Tree on Memory Dataframe (100%)"
   ]
  },
  {
   "cell_type": "code",
   "execution_count": 71,
   "metadata": {},
   "outputs": [],
   "source": [
    "# Train the model on train data (100%)\n",
    "memory_model_3 = memory_pipeline_2.fit(memory_train_full_data)\n",
    "# Test the model on test data \n",
    "memory_predictions_3 = memory_model_3.transform(memory_test_data)"
   ]
  },
  {
   "cell_type": "code",
   "execution_count": 72,
   "metadata": {},
   "outputs": [
    {
     "name": "stdout",
     "output_type": "stream",
     "text": [
      "+-----+----------+------+\n",
      "|label|prediction| count|\n",
      "+-----+----------+------+\n",
      "|  1.0|       1.0| 38575|\n",
      "|  0.0|       1.0| 24344|\n",
      "|  1.0|       0.0|  2503|\n",
      "|  0.0|       0.0|334177|\n",
      "+-----+----------+------+\n",
      "\n"
     ]
    }
   ],
   "source": [
    "# Compute the metrics\n",
    "memory_metrics_3 = compute_metrics(memory_predictions_3)\n",
    "memory_metrics_3['auc'] = evaluator.evaluate(memory_predictions_3)"
   ]
  },
  {
   "cell_type": "code",
   "execution_count": 73,
   "metadata": {},
   "outputs": [
    {
     "name": "stdout",
     "output_type": "stream",
     "text": [
      "{'accuracy': 0.932815147185053,\n",
      " 'auc': 0.9833563341013156,\n",
      " 'f1': 0.7418483225477658,\n",
      " 'precision': 0.6130898456745975,\n",
      " 'recall': 0.9390671405618579}\n"
     ]
    }
   ],
   "source": [
    "# Print out the metrics\n",
    "pprint(memory_metrics_3)"
   ]
  },
  {
   "cell_type": "code",
   "execution_count": 76,
   "metadata": {},
   "outputs": [
    {
     "name": "stdout",
     "output_type": "stream",
     "text": [
      "[{'idx': 0, 'importance': 0.8160101284288671, 'name': 'ts'},\n",
      " {'idx': 1, 'importance': 0.07041539179658522, 'name': 'MINFLT'},\n",
      " {'idx': 2, 'importance': 0.06541898436515795, 'name': 'VSIZE'},\n",
      " {'idx': 3, 'importance': 0.04683326035926473, 'name': 'RSIZE'},\n",
      " {'idx': 5, 'importance': 0.0010060077018362403, 'name': 'MEM'}]\n"
     ]
    }
   ],
   "source": [
    "# Extract list of features from the predictions\n",
    "features = list()\n",
    "for k,v in memory_predictions_3.schema['features'].metadata['ml_attr']['attrs'].items():\n",
    "    features = features + v\n",
    "features = sorted(features, key=lambda k: k['idx']) \n",
    "\n",
    "# Extract feature importances from the machine learning stage\n",
    "feature_importance = list(memory_model_3.stages[-1].featureImportances)\n",
    "\n",
    "# Map the importance with the features\n",
    "for i in range(len(features)):\n",
    "    features[i]['importance'] = feature_importance[i]\n",
    "\n",
    "# Print out the top 5 most important features\n",
    "pprint(sorted(features, key=lambda k: k['importance'], reverse=True)[:5])"
   ]
  },
  {
   "cell_type": "code",
   "execution_count": 77,
   "metadata": {},
   "outputs": [
    {
     "data": {
      "image/png": "[encoded data removed]",
      "text/plain": [
       "<Figure size 432x288 with 1 Axes>"
      ]
     },
     "metadata": {
      "needs_background": "light"
     },
     "output_type": "display_data"
    }
   ],
   "source": [
    "# Draw the ROC curve\n",
    "draw_roc(memory_predictions_3)"
   ]
  },
  {
   "cell_type": "markdown",
   "metadata": {},
   "source": [
    "#### 2.3.2. Gradient Boosted Tree on Process Dataframe (100%)"
   ]
  },
  {
   "cell_type": "code",
   "execution_count": 78,
   "metadata": {},
   "outputs": [],
   "source": [
    "# Train the model on train data (100%)\n",
    "process_model_3 = process_pipeline_2.fit(process_train_full_data)\n",
    "# Test the model on test data \n",
    "process_predictions_3 = process_model_3.transform(process_test_data)"
   ]
  },
  {
   "cell_type": "code",
   "execution_count": 79,
   "metadata": {},
   "outputs": [
    {
     "name": "stdout",
     "output_type": "stream",
     "text": [
      "+-----+----------+------+\n",
      "|label|prediction| count|\n",
      "+-----+----------+------+\n",
      "|  1.0|       1.0| 55700|\n",
      "|  0.0|       1.0| 28375|\n",
      "|  1.0|       0.0|  2632|\n",
      "|  0.0|       0.0|298414|\n",
      "+-----+----------+------+\n",
      "\n"
     ]
    }
   ],
   "source": [
    "# Compute the metrics\n",
    "process_metrics_3 = compute_metrics(process_predictions_3)\n",
    "process_metrics_3['auc'] = evaluator.evaluate(process_predictions_3)"
   ]
  },
  {
   "cell_type": "code",
   "execution_count": 80,
   "metadata": {},
   "outputs": [
    {
     "name": "stdout",
     "output_type": "stream",
     "text": [
      "{'accuracy': 0.919487641546423,\n",
      " 'auc': 0.9801085317742896,\n",
      " 'f1': 0.7822649167526877,\n",
      " 'precision': 0.6625037169194172,\n",
      " 'recall': 0.9548789686621408}\n"
     ]
    }
   ],
   "source": [
    "# Print out the metrics\n",
    "pprint(process_metrics_3)"
   ]
  },
  {
   "cell_type": "code",
   "execution_count": 81,
   "metadata": {},
   "outputs": [
    {
     "name": "stdout",
     "output_type": "stream",
     "text": [
      "[{'importance': 0.9162054541100456, 'name': 'ts'},\n",
      " {'importance': 0.031090591379289018, 'name': 'Status_ohe'},\n",
      " {'importance': 0.030221398144447943, 'name': 'CPU'},\n",
      " {'importance': 0.012002057894844478, 'name': 'CPUNR'},\n",
      " {'importance': 0.008025784464799315, 'name': 'TSLPI'}]\n"
     ]
    }
   ],
   "source": [
    "# Extract list of features from the predictions\n",
    "features = list()\n",
    "for k,v in process_predictions_3.schema['features'].metadata['ml_attr']['attrs'].items():\n",
    "    features = features + v\n",
    "features = sorted(features, key=lambda k: k['idx']) \n",
    "\n",
    "# Extract feature importances from the machine learning stage\n",
    "feature_importance = list(process_model_3.stages[-1].featureImportances)\n",
    "\n",
    "# Map the importance with the features\n",
    "for i in range(len(features)):\n",
    "    features[i]['importance'] = feature_importance[i]\n",
    "\n",
    "# Create a list of grouped features\n",
    "grouped_features = list()\n",
    "# For each feature\n",
    "for f in process_model_1.stages[-3].getInputCols():\n",
    "    # Sum the importance from the feature attributes\n",
    "    temp = 0\n",
    "    for i in features:\n",
    "        if f in i['name']:\n",
    "            temp = temp + i['importance']\n",
    "    \n",
    "    # Add feature to the new list\n",
    "    grouped_features.append({'name': f, 'importance':temp})\n",
    "    \n",
    "# Print out the top 5 most important features\n",
    "pprint(sorted(grouped_features, key=lambda k: k['importance'], reverse=True)[:5])"
   ]
  },
  {
   "cell_type": "code",
   "execution_count": 82,
   "metadata": {},
   "outputs": [
    {
     "data": {
      "image/png": "[encoded data removed]",
      "text/plain": [
       "<Figure size 432x288 with 1 Axes>"
      ]
     },
     "metadata": {
      "needs_background": "light"
     },
     "output_type": "display_data"
    }
   ],
   "source": [
    "# Draw the ROC curve\n",
    "draw_roc(process_predictions_3)"
   ]
  },
  {
   "cell_type": "markdown",
   "metadata": {},
   "source": [
    "<a class=\"anchor\" name=\"three\"></a>\n",
    "## 3. Knowledge sharing"
   ]
  },
  {
   "cell_type": "markdown",
   "metadata": {},
   "source": [
    "* Sample code used to examine the operation of a KMeans Clustering Model:"
   ]
  },
  {
   "cell_type": "code",
   "execution_count": 3,
   "metadata": {},
   "outputs": [],
   "source": [
    "# Create the dataframe\n",
    "iris_df = spark.createDataFrame(\n",
    "    [\n",
    "        (4.7, 3.2, 1.3, 0.2),\n",
    "        (4.9, 3.1, 1.5, 0.1),\n",
    "        (5.4, 3.9, 1.3, 0.4),\n",
    "        (5.0, 3.4, 1.6, 0.2),\n",
    "        (5.1, 3.8, 1.6, 0.2),\n",
    "        (4.9, 2.4, 3.3, 1.0),\n",
    "        (6.6, 2.9, 4.6, 1.3),\n",
    "        (5.6, 3.0, 4.5, 1.5),\n",
    "        (5.7, 2.6, 3.5, 1.0),\n",
    "        (5.8, 2.6, 4.0, 1.2),\n",
    "        (5.8, 2.8, 5.1, 2.4),\n",
    "        (6.2, 2.8, 4.8, 1.8),\n",
    "        (6.0, 3.0, 4.8, 1.8),\n",
    "        (6.7, 3.1, 5.6, 2.4),\n",
    "        (6.7, 3.0, 5.2, 2.3),\n",
    "        (6.2, 3.4, 5.4, 2.3)\n",
    "    ],\n",
    "    ['sepal_length', 'sepal_width', 'petal_length', 'petal_width']\n",
    ")"
   ]
  },
  {
   "cell_type": "code",
   "execution_count": 4,
   "metadata": {},
   "outputs": [],
   "source": [
    "# Assemble all columns into one feature\n",
    "assembler = VectorAssembler(inputCols=['sepal_length', 'sepal_width', 'petal_length', 'petal_width'],\n",
    "                            outputCol='features')\n",
    "\n",
    "# Transform the data and use it to train the machine learning algorithm\n",
    "kmeans = KMeans(k=3).fit(assembler.transform(iris_df))"
   ]
  },
  {
   "cell_type": "markdown",
   "metadata": {},
   "source": [
    "* The image below shows that in total, 10 jobs were executed when training the model. With the `iris_df` being distributed into two partitions, there are two jobs executed for each step of the KMeans clustering algorithm, except for the `countByValue at KMeans` and `collect at ClusteringSummary` jobs, which summarized records from the two partitions. The first two jobs, namely Job 0 and 1: `takeSample at KMeans`, were executed to randomly initialize the centroids for the clusters. After the centroids have been initialized, distances from the datapoints to the centroids were calculated. The aforementioned step were demonstrated by the combination of the two jobs: `sum at KMeans` and `collect at KMeans` (Jobs 2 and 3, and Jobs 4 and 5). Then, each datapoint was assigned to the nearest cluster based on the distance from the datapoint and the cluster's centroid through Job 6: `countByValue at KMeans`. Coordinates of each cluster's centroid was then re-calculated using the datapoints that it contains. After the centroids had been updated, datapoints were then re-assigned to their nearest clusters. The re-calculation of centroids and re-assignment of datapoints were carried out through the `collectAsMap at KMeans` job (Job 7 and 8). The final job (Job 9) `collect at ClusteringSummary` played the role of combining the results of the parallel processes."
   ]
  },
  {
   "cell_type": "markdown",
   "metadata": {},
   "source": [
    "<img src='jobs.png'/>"
   ]
  },
  {
   "cell_type": "code",
   "execution_count": 6,
   "metadata": {},
   "outputs": [],
   "source": [
    "# Stop the Spark application\n",
    "sc.stop()"
   ]
  },
  {
   "cell_type": "markdown",
   "metadata": {},
   "source": [
    "# Rerferences"
   ]
  },
  {
   "cell_type": "markdown",
   "metadata": {},
   "source": [
    "[1] Harshdeep Singh, *Understanding Gradient Boosting Machines*, Towards Data Science, Nov.4, 2018. Accessed on Sep. 28, 2020. Available: https://towardsdatascience.com/understanding-gradient-boosting-machines-9be756fe76ab\n",
    "\n",
    "\n",
    "[2] Apache Spark API, *PySpark 2.1.0 Documentation*. Accessed on Sep. 28, 2020 [Online]. Available: http://spark.apache.org/docs/2.1.0/api/python/pyspark.ml.html?highlight=featureimportance#pyspark.ml.classification.DecisionTreeClassificationModel.featureImportances"
   ]
  }
 ],
 "metadata": {
  "kernelspec": {
   "display_name": "Python 3",
   "language": "python",
   "name": "python3"
  },
  "language_info": {
   "codemirror_mode": {
    "name": "ipython",
    "version": 3
   },
   "file_extension": ".py",
   "mimetype": "text/x-python",
   "name": "python",
   "nbconvert_exporter": "python",
   "pygments_lexer": "ipython3",
   "version": "3.6.9"
  }
 },
 "nbformat": 4,
 "nbformat_minor": 4
}
